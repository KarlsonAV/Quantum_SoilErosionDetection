{
 "cells": [
  {
   "cell_type": "markdown",
   "source": [
    "# Building a Model"
   ],
   "metadata": {
    "collapsed": false,
    "pycharm": {
     "name": "#%% md\n"
    }
   }
  },
  {
   "cell_type": "markdown",
   "source": [
    "### Installing requirements"
   ],
   "metadata": {
    "collapsed": false,
    "pycharm": {
     "name": "#%% md\n"
    }
   }
  },
  {
   "cell_type": "code",
   "metadata": {
    "id": "nTVDJ0ASzt6x",
    "pycharm": {
     "name": "#%%\n"
    }
   },
   "source": [
    "from patchify import unpatchify\n",
    "\n",
    "import tensorflow as tf\n",
    "import numpy as np\n",
    "import matplotlib.pyplot as plt\n",
    "\n",
    "import cv2\n",
    "\n",
    "from tensorflow.keras.models import Model\n",
    "from tensorflow.keras.layers import Input, Conv2D, MaxPooling2D, Dropout, UpSampling2D, concatenate\n",
    "from tensorflow.keras.optimizers import Adam\n",
    "from tensorflow.keras.callbacks import ModelCheckpoint"
   ],
   "execution_count": 2,
   "outputs": []
  },
  {
   "cell_type": "markdown",
   "source": [
    "### UNET model architecture"
   ],
   "metadata": {
    "collapsed": false,
    "pycharm": {
     "name": "#%% md\n"
    }
   }
  },
  {
   "cell_type": "code",
   "execution_count": null,
   "metadata": {
    "id": "vrReH932zt6z",
    "pycharm": {
     "is_executing": true
    }
   },
   "outputs": [],
   "source": [
    "import keras.backend as K\n",
    "\n",
    "class DiceLoss(tf.keras.losses.Loss):\n",
    "    def __init__(self, smooth=1e-6, gama=2):\n",
    "        super(DiceLoss, self).__init__()\n",
    "        self.name = 'NDL'\n",
    "        self.smooth = smooth\n",
    "        self.gama = gama\n",
    "\n",
    "    def call(self, y_true, y_pred):\n",
    "        y_true, y_pred = tf.cast(\n",
    "            y_true, dtype=tf.float32), tf.cast(y_pred, tf.float32)\n",
    "        nominator = 2 * \\\n",
    "            tf.reduce_sum(tf.multiply(y_pred, y_true)) + self.smooth\n",
    "        denominator = tf.reduce_sum(\n",
    "            y_pred ** self.gama) + tf.reduce_sum(y_true ** self.gama) + self.smooth\n",
    "        result = 1 - tf.divide(nominator, denominator)\n",
    "        return result\n",
    "\n",
    "\n",
    "def f1_metric(y_pred, y_true):\n",
    "    true_positives = K.sum(K.round(K.clip(y_true * y_pred, 0, 1)))\n",
    "    possible_positives = K.sum(K.round(K.clip(y_true, 0, 1)))\n",
    "    predicted_positives = K.sum(K.round(K.clip(y_pred, 0, 1)))\n",
    "    precision = true_positives / (predicted_positives + K.epsilon())\n",
    "    recall = true_positives / (possible_positives + K.epsilon())\n",
    "    f1_val = 2*(precision*recall)/(precision+recall+K.epsilon())\n",
    "    return f1_val\n",
    "\n",
    "def IoU(y_pred, y_true):\n",
    "    I = tf.reduce_sum(y_pred * y_true, axis=(1, 2))\n",
    "    U = tf.reduce_sum(y_pred + y_true, axis=(1, 2)) - I\n",
    "    return tf.reduce_mean(I / U)\n",
    "\n",
    "def unet(pretrained_weights=None, input_size=(512, 512, 3)):\n",
    "\t\tinputs = Input(input_size)\n",
    "\t\tconv1 = Conv2D(64, 3, activation='relu', padding='same', kernel_initializer='he_normal')(inputs)\n",
    "\t\tconv1 = Conv2D(64, 3, activation='relu', padding='same', kernel_initializer='he_normal')(conv1)\n",
    "\t\tpool1 = MaxPooling2D(pool_size=(2, 2))(conv1)\n",
    "\t\tconv2 = Conv2D(128, 3, activation='relu', padding='same', kernel_initializer='he_normal')(pool1)\n",
    "\t\tconv2 = Conv2D(128, 3, activation='relu', padding='same', kernel_initializer='he_normal')(conv2)\n",
    "\t\tpool2 = MaxPooling2D(pool_size=(2, 2))(conv2)\n",
    "\t\tconv3 = Conv2D(256, 3, activation='relu', padding='same', kernel_initializer='he_normal')(pool2)\n",
    "\t\tconv3 = Conv2D(256, 3, activation='relu', padding='same', kernel_initializer='he_normal')(conv3)\n",
    "\t\tpool3 = MaxPooling2D(pool_size=(2, 2))(conv3)\n",
    "\t\tconv4 = Conv2D(512, 3, activation='relu', padding='same', kernel_initializer='he_normal')(pool3)\n",
    "\t\tconv4 = Conv2D(512, 3, activation='relu', padding='same', kernel_initializer='he_normal')(conv4)\n",
    "\t\tdrop4 = Dropout(0.5)(conv4)\n",
    "\t\tpool4 = MaxPooling2D(pool_size=(2, 2))(drop4)\n",
    "\n",
    "\t\tconv5 = Conv2D(1024, 3, activation='relu', padding='same', kernel_initializer='he_normal')(pool4)\n",
    "\t\tconv5 = Conv2D(1024, 3, activation='relu', padding='same', kernel_initializer='he_normal')(conv5)\n",
    "\t\tdrop5 = Dropout(0.5)(conv5)\n",
    "\n",
    "\t\tup6 = Conv2D(512, 2, activation='relu', padding='same', kernel_initializer='he_normal')(UpSampling2D(size = (2,2))(drop5))\n",
    "\t\tmerge6 = concatenate([drop4, up6], axis=3)\n",
    "\t\tconv6 = Conv2D(512, 3, activation='relu', padding='same', kernel_initializer='he_normal')(merge6)\n",
    "\t\tconv6 = Conv2D(512, 3, activation='relu', padding='same', kernel_initializer='he_normal')(conv6)\n",
    "\n",
    "\t\tup7 = Conv2D(256, 2, activation='relu', padding='same', kernel_initializer='he_normal')(UpSampling2D(size = (2,2))(conv6))\n",
    "\t\tmerge7 = concatenate([conv3, up7], axis=3)\n",
    "\t\tconv7 = Conv2D(256, 3, activation='relu', padding='same', kernel_initializer='he_normal')(merge7)\n",
    "\t\tconv7 = Conv2D(256, 3, activation='relu', padding='same', kernel_initializer='he_normal')(conv7)\n",
    "\n",
    "\t\tup8 = Conv2D(128, 2, activation='relu', padding='same', kernel_initializer='he_normal')(UpSampling2D(size = (2,2))(conv7))\n",
    "\t\tmerge8 = concatenate([conv2, up8], axis=3)\n",
    "\t\tconv8 = Conv2D(128, 3, activation='relu', padding='same', kernel_initializer='he_normal')(merge8)\n",
    "\t\tconv8 = Conv2D(128, 3, activation='relu', padding='same', kernel_initializer='he_normal')(conv8)\n",
    "\n",
    "\t\tup9 = Conv2D(64, 2, activation='relu', padding='same', kernel_initializer='he_normal')(UpSampling2D(size = (2,2))(conv8))\n",
    "\t\tmerge9 = concatenate([conv1, up9], axis=3)\n",
    "\t\tconv9 = Conv2D(64, 3, activation='relu', padding='same', kernel_initializer='he_normal')(merge9)\n",
    "\t\tconv9 = Conv2D(64, 3, activation='relu', padding='same', kernel_initializer='he_normal')(conv9)\n",
    "\t\tconv9 = Conv2D(2, 3, activation='relu', padding='same', kernel_initializer='he_normal')(conv9)\n",
    "\t\tconv10 = Conv2D(1, 1, activation='sigmoid')(conv9)\n",
    "\n",
    "\t\tmodel = Model(inputs=inputs, outputs=conv10)\n",
    "\n",
    "\t\tiou = tf.keras.metrics.BinaryIoU(target_class_ids=[0], threshold=0.5)\n",
    "\n",
    "\t\tmodel.compile(optimizer=Adam(lr=0.001), loss=\"binary_crossentropy\", metrics=[\"accuracy\"])\n",
    "\n",
    "\t\tif pretrained_weights:\n",
    "\t\t\t\tmodel.load_weights(pretrained_weights)\n",
    "\t\treturn model"
   ]
  },
  {
   "cell_type": "markdown",
   "source": [
    "### Extracting images and masks from folder"
   ],
   "metadata": {
    "collapsed": false,
    "pycharm": {
     "name": "#%% md\n"
    }
   }
  },
  {
   "cell_type": "code",
   "execution_count": 3,
   "metadata": {
    "id": "t7zIZkStzt61"
   },
   "outputs": [],
   "source": [
    "raster_ims = []\n",
    "mask_ims = []\n",
    "\n",
    "N_AUGMENTS = 1\n",
    "for i in range(N_AUGMENTS):\n",
    "    rasters_path = f\"Data/patches/augmentation_{i}/images\"\n",
    "    masks_path = f\"Data/patches/augmentation_{i}/masks\"\n",
    "\n",
    "    for j in range(21):\n",
    "        for k in range(21):\n",
    "            raster_im = cv2.imread(f\"{rasters_path}/patch_raster_{j}_{k}.png\")\n",
    "            raster_im = cv2.cvtColor(raster_im, cv2.COLOR_RGB2BGR)\n",
    "            raster_ims.append(raster_im)\n",
    "\n",
    "            mask_im = cv2.imread(f\"{masks_path}/patch_mask_{j}_{k}.png\", cv2.IMREAD_GRAYSCALE)\n",
    "            mask_ims.append(mask_im)"
   ]
  },
  {
   "cell_type": "code",
   "execution_count": 4,
   "metadata": {
    "id": "6ckkxp_1zt63"
   },
   "outputs": [],
   "source": [
    "raster_ims = np.array(raster_ims)\n",
    "mask_ims = np.array(mask_ims)\n",
    "mask_ims = np.expand_dims(mask_ims, axis=3)"
   ]
  },
  {
   "cell_type": "markdown",
   "metadata": {
    "id": "qajS9pwRzt65",
    "pycharm": {
     "name": "#%% md\n"
    }
   },
   "source": [
    "### Feature Scaling"
   ]
  },
  {
   "cell_type": "code",
   "source": [
    "raster_ims = raster_ims / 255.0\n",
    "mask_ims = mask_ims / 255.0"
   ],
   "metadata": {
    "id": "2n1jjSJUw2vw"
   },
   "execution_count": 8,
   "outputs": []
  },
  {
   "cell_type": "markdown",
   "source": [
    "### Training"
   ],
   "metadata": {
    "collapsed": false,
    "pycharm": {
     "name": "#%% md\n"
    }
   }
  },
  {
   "cell_type": "code",
   "source": [
    "net = unet()"
   ],
   "metadata": {
    "colab": {
     "base_uri": "https://localhost:8080/"
    },
    "id": "33VwMUNy2TKG",
    "outputId": "fdb1e267-873e-4d45-c14f-afc96cbdd1d1"
   },
   "execution_count": 9,
   "outputs": [
    {
     "output_type": "stream",
     "name": "stderr",
     "text": [
      "/usr/local/lib/python3.7/dist-packages/keras/optimizer_v2/adam.py:105: UserWarning: The `lr` argument is deprecated, use `learning_rate` instead.\n",
      "  super(Adam, self).__init__(name, **kwargs)\n"
     ]
    }
   ]
  },
  {
   "cell_type": "code",
   "source": [
    "model_path = \"unet.h5\"\n",
    "checkpoint = ModelCheckpoint(model_path,\n",
    "                             monitor=\"val_loss\",\n",
    "                             mode=\"min\",\n",
    "                             verbose=1)"
   ],
   "metadata": {
    "id": "-VScE8imJ2_X"
   },
   "execution_count": 10,
   "outputs": []
  },
  {
   "cell_type": "code",
   "source": [
    "history = net.fit(raster_ims, mask_ims, epochs=10, batch_size=3, callbacks=[checkpoint])"
   ],
   "metadata": {
    "id": "A2TBLz_Q2W6f",
    "colab": {
     "base_uri": "https://localhost:8080/"
    },
    "outputId": "944fd3c2-bdcf-48b3-902b-09bb9d9fc11b"
   },
   "execution_count": 11,
   "outputs": [
    {
     "output_type": "stream",
     "name": "stdout",
     "text": [
      "Epoch 1/10\n",
      "147/147 [==============================] - ETA: 0s - loss: 0.6642 - accuracy: 0.9905"
     ]
    },
    {
     "output_type": "stream",
     "name": "stderr",
     "text": [
      "WARNING:tensorflow:Can save best model only with val_loss available, skipping.\n"
     ]
    },
    {
     "output_type": "stream",
     "name": "stdout",
     "text": [
      "\b\b\b\b\b\b\b\b\b\b\b\b\b\b\b\b\b\b\b\b\b\b\b\b\b\b\b\b\b\b\b\b\b\b\b\b\b\b\b\b\b\b\b\b\b\b\b\b\b\b\b\b\b\b\b\b\b\b\b\b\b\b\b\b\b\b\b\b\b\b\b\b\b\b\b\b\b\b\b\b\b\b\b\b\r147/147 [==============================] - 141s 785ms/step - loss: 0.6642 - accuracy: 0.9905\n",
      "Epoch 2/10\n",
      "147/147 [==============================] - ETA: 0s - loss: 0.5932 - accuracy: 0.9973"
     ]
    },
    {
     "output_type": "stream",
     "name": "stderr",
     "text": [
      "WARNING:tensorflow:Can save best model only with val_loss available, skipping.\n"
     ]
    },
    {
     "output_type": "stream",
     "name": "stdout",
     "text": [
      "\b\b\b\b\b\b\b\b\b\b\b\b\b\b\b\b\b\b\b\b\b\b\b\b\b\b\b\b\b\b\b\b\b\b\b\b\b\b\b\b\b\b\b\b\b\b\b\b\b\b\b\b\b\b\b\b\b\b\b\b\b\b\b\b\b\b\b\b\b\b\b\b\b\b\b\b\b\b\b\b\b\b\b\b\r147/147 [==============================] - 118s 801ms/step - loss: 0.5932 - accuracy: 0.9973\n",
      "Epoch 3/10\n",
      "147/147 [==============================] - ETA: 0s - loss: 0.5346 - accuracy: 0.9973"
     ]
    },
    {
     "output_type": "stream",
     "name": "stderr",
     "text": [
      "WARNING:tensorflow:Can save best model only with val_loss available, skipping.\n"
     ]
    },
    {
     "output_type": "stream",
     "name": "stdout",
     "text": [
      "\b\b\b\b\b\b\b\b\b\b\b\b\b\b\b\b\b\b\b\b\b\b\b\b\b\b\b\b\b\b\b\b\b\b\b\b\b\b\b\b\b\b\b\b\b\b\b\b\b\b\b\b\b\b\b\b\b\b\b\b\b\b\b\b\b\b\b\b\b\b\b\b\b\b\b\b\b\b\b\b\b\b\b\b\r147/147 [==============================] - 119s 807ms/step - loss: 0.5346 - accuracy: 0.9973\n",
      "Epoch 4/10\n",
      "147/147 [==============================] - ETA: 0s - loss: 0.4825 - accuracy: 0.9973"
     ]
    },
    {
     "output_type": "stream",
     "name": "stderr",
     "text": [
      "WARNING:tensorflow:Can save best model only with val_loss available, skipping.\n"
     ]
    },
    {
     "output_type": "stream",
     "name": "stdout",
     "text": [
      "\b\b\b\b\b\b\b\b\b\b\b\b\b\b\b\b\b\b\b\b\b\b\b\b\b\b\b\b\b\b\b\b\b\b\b\b\b\b\b\b\b\b\b\b\b\b\b\b\b\b\b\b\b\b\b\b\b\b\b\b\b\b\b\b\b\b\b\b\b\b\b\b\b\b\b\b\b\b\b\b\b\b\b\b\r147/147 [==============================] - 119s 809ms/step - loss: 0.4825 - accuracy: 0.9973\n",
      "Epoch 5/10\n",
      "147/147 [==============================] - ETA: 0s - loss: 0.4362 - accuracy: 0.9973"
     ]
    },
    {
     "output_type": "stream",
     "name": "stderr",
     "text": [
      "WARNING:tensorflow:Can save best model only with val_loss available, skipping.\n"
     ]
    },
    {
     "output_type": "stream",
     "name": "stdout",
     "text": [
      "\b\b\b\b\b\b\b\b\b\b\b\b\b\b\b\b\b\b\b\b\b\b\b\b\b\b\b\b\b\b\b\b\b\b\b\b\b\b\b\b\b\b\b\b\b\b\b\b\b\b\b\b\b\b\b\b\b\b\b\b\b\b\b\b\b\b\b\b\b\b\b\b\b\b\b\b\b\b\b\b\b\b\b\b\r147/147 [==============================] - 119s 810ms/step - loss: 0.4362 - accuracy: 0.9973\n",
      "Epoch 6/10\n",
      "147/147 [==============================] - ETA: 0s - loss: 0.3950 - accuracy: 0.9973"
     ]
    },
    {
     "output_type": "stream",
     "name": "stderr",
     "text": [
      "WARNING:tensorflow:Can save best model only with val_loss available, skipping.\n"
     ]
    },
    {
     "output_type": "stream",
     "name": "stdout",
     "text": [
      "\b\b\b\b\b\b\b\b\b\b\b\b\b\b\b\b\b\b\b\b\b\b\b\b\b\b\b\b\b\b\b\b\b\b\b\b\b\b\b\b\b\b\b\b\b\b\b\b\b\b\b\b\b\b\b\b\b\b\b\b\b\b\b\b\b\b\b\b\b\b\b\b\b\b\b\b\b\b\b\b\b\b\b\b\r147/147 [==============================] - 119s 810ms/step - loss: 0.3950 - accuracy: 0.9973\n",
      "Epoch 7/10\n",
      "147/147 [==============================] - ETA: 0s - loss: 0.3584 - accuracy: 0.9973"
     ]
    },
    {
     "output_type": "stream",
     "name": "stderr",
     "text": [
      "WARNING:tensorflow:Can save best model only with val_loss available, skipping.\n"
     ]
    },
    {
     "output_type": "stream",
     "name": "stdout",
     "text": [
      "\b\b\b\b\b\b\b\b\b\b\b\b\b\b\b\b\b\b\b\b\b\b\b\b\b\b\b\b\b\b\b\b\b\b\b\b\b\b\b\b\b\b\b\b\b\b\b\b\b\b\b\b\b\b\b\b\b\b\b\b\b\b\b\b\b\b\b\b\b\b\b\b\b\b\b\b\b\b\b\b\b\b\b\b\r147/147 [==============================] - 119s 809ms/step - loss: 0.3584 - accuracy: 0.9973\n",
      "Epoch 8/10\n",
      "147/147 [==============================] - ETA: 0s - loss: 0.3259 - accuracy: 0.9973"
     ]
    },
    {
     "output_type": "stream",
     "name": "stderr",
     "text": [
      "WARNING:tensorflow:Can save best model only with val_loss available, skipping.\n"
     ]
    },
    {
     "output_type": "stream",
     "name": "stdout",
     "text": [
      "\b\b\b\b\b\b\b\b\b\b\b\b\b\b\b\b\b\b\b\b\b\b\b\b\b\b\b\b\b\b\b\b\b\b\b\b\b\b\b\b\b\b\b\b\b\b\b\b\b\b\b\b\b\b\b\b\b\b\b\b\b\b\b\b\b\b\b\b\b\b\b\b\b\b\b\b\b\b\b\b\b\b\b\b\r147/147 [==============================] - 119s 809ms/step - loss: 0.3259 - accuracy: 0.9973\n",
      "Epoch 9/10\n",
      "147/147 [==============================] - ETA: 0s - loss: 0.2969 - accuracy: 0.9973"
     ]
    },
    {
     "output_type": "stream",
     "name": "stderr",
     "text": [
      "WARNING:tensorflow:Can save best model only with val_loss available, skipping.\n"
     ]
    },
    {
     "output_type": "stream",
     "name": "stdout",
     "text": [
      "\b\b\b\b\b\b\b\b\b\b\b\b\b\b\b\b\b\b\b\b\b\b\b\b\b\b\b\b\b\b\b\b\b\b\b\b\b\b\b\b\b\b\b\b\b\b\b\b\b\b\b\b\b\b\b\b\b\b\b\b\b\b\b\b\b\b\b\b\b\b\b\b\b\b\b\b\b\b\b\b\b\b\b\b\r147/147 [==============================] - 119s 809ms/step - loss: 0.2969 - accuracy: 0.9973\n",
      "Epoch 10/10\n",
      "147/147 [==============================] - ETA: 0s - loss: 0.2711 - accuracy: 0.9973"
     ]
    },
    {
     "output_type": "stream",
     "name": "stderr",
     "text": [
      "WARNING:tensorflow:Can save best model only with val_loss available, skipping.\n"
     ]
    },
    {
     "output_type": "stream",
     "name": "stdout",
     "text": [
      "\b\b\b\b\b\b\b\b\b\b\b\b\b\b\b\b\b\b\b\b\b\b\b\b\b\b\b\b\b\b\b\b\b\b\b\b\b\b\b\b\b\b\b\b\b\b\b\b\b\b\b\b\b\b\b\b\b\b\b\b\b\b\b\b\b\b\b\b\b\b\b\b\b\b\b\b\b\b\b\b\b\b\b\b\r147/147 [==============================] - 119s 810ms/step - loss: 0.2711 - accuracy: 0.9973\n"
     ]
    }
   ]
  },
  {
   "cell_type": "markdown",
   "source": [
    "### Inference"
   ],
   "metadata": {
    "collapsed": false,
    "pycharm": {
     "name": "#%% md\n"
    }
   }
  },
  {
   "cell_type": "code",
   "source": [
    "predicted = []\n",
    "\n",
    "for img in raster_ims:\n",
    "    predicted.append(net.predict(np.expand_dims(img, axis=0)))"
   ],
   "metadata": {
    "id": "YXUQjX3VyCjN"
   },
   "execution_count": 17,
   "outputs": []
  },
  {
   "cell_type": "code",
   "source": [
    "predicted1 = np.array(predicted).reshape((441, 512, 512, 1))\n",
    "\n",
    "predicted1[predicted1 >= 0.3] = 1\n",
    "predicted1[predicted1 < 0.3] = 0\n",
    "predicted1 = predicted1 * 255"
   ],
   "metadata": {
    "id": "FX7KvH2OSbD_"
   },
   "execution_count": 35,
   "outputs": []
  },
  {
   "cell_type": "code",
   "source": [
    "# Recreating tile image\n",
    "result = unpatchify(predicted1, (10752, 10752, 1))\n",
    "result = np.squeeze(result)"
   ],
   "metadata": {
    "id": "QazZaXFpVWPM"
   },
   "execution_count": 56,
   "outputs": []
  },
  {
   "cell_type": "code",
   "source": [
    "plt.imshow(result)"
   ],
   "metadata": {
    "colab": {
     "base_uri": "https://localhost:8080/",
     "height": 286
    },
    "id": "kp26d9fjXRAd",
    "outputId": "70c71431-2bde-493d-b163-740ddc561493"
   },
   "execution_count": 63,
   "outputs": [
    {
     "output_type": "execute_result",
     "data": {
      "text/plain": [
       "<matplotlib.image.AxesImage at 0x7f697d527650>"
      ]
     },
     "metadata": {},
     "execution_count": 63
    },
    {
     "output_type": "display_data",
     "data": {
      "text/plain": [
       "<Figure size 432x288 with 1 Axes>"
      ],
      "image/png": "[encoded data removed]"
     },
     "metadata": {
      "needs_background": "light"
     }
    }
   ]
  },
  {
   "cell_type": "markdown",
   "source": [
    "### Modeling Results"
   ],
   "metadata": {
    "id": "Y6iH8-0sYGwK",
    "pycharm": {
     "name": "#%% md\n"
    }
   }
  },
  {
   "cell_type": "markdown",
   "source": [
    "Unfortunately my computer doesn't allow me to take advantage of GPU training boosting and due to that, I had to rebuilt entire modeling process in google colabs. And because of that, I couldn't upload to google collabs all the augmentations that were created, therefore, a big amount of my work was lost (Used only 414 images out of +-5000). Our model did very badly, because of all computational-resources obstacles which have occurred during the modeling process. In order to improve results it would be reasonable to use a Jaccard Index as a loss function. Accuracy is a bad metric for imbalanced data (the one we have) and I'd replace it with IoU score (useful for image segmentation) and F1-score (useful for unbalanced dataset). The main problem here is a very poor amount of data (only 1 tile), which has very little instances of soil erosion."
   ],
   "metadata": {
    "collapsed": false,
    "pycharm": {
     "name": "#%% md\n"
    }
   }
  }
 ],
 "metadata": {
  "kernelspec": {
   "display_name": "Python 3.7.13 ('geo')",
   "language": "python",
   "name": "python3"
  },
  "language_info": {
   "codemirror_mode": {
    "name": "ipython",
    "version": 3
   },
   "file_extension": ".py",
   "mimetype": "text/x-python",
   "name": "python",
   "nbconvert_exporter": "python",
   "pygments_lexer": "ipython3",
   "version": "3.7.13"
  },
  "orig_nbformat": 4,
  "vscode": {
   "interpreter": {
    "hash": "e6e8bd8f2d50af7579fedacaa7885e08a3ef54616cecbaea48fe079c940a8496"
   }
  },
  "colab": {
   "provenance": []
  },
  "gpuClass": "standard",
  "accelerator": "GPU"
 },
 "nbformat": 4,
 "nbformat_minor": 0
}